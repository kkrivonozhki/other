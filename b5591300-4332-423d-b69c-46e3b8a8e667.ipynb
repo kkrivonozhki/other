{
 "cells": [
  {
   "cell_type": "markdown",
   "metadata": {
    "toc": true
   },
   "source": [
    "<h1>Содержание<span class=\"tocSkip\"></span></h1>\n",
    "<div class=\"toc\"><ul class=\"toc-item\"><li><span><a href=\"#Изучение-данных-из-файла\" data-toc-modified-id=\"Изучение-данных-из-файла-1\"><span class=\"toc-item-num\">1&nbsp;&nbsp;</span>Изучение данных из файла</a></span><ul class=\"toc-item\"><li><span><a href=\"#Вывод\" data-toc-modified-id=\"Вывод-1.1\"><span class=\"toc-item-num\">1.1&nbsp;&nbsp;</span>Вывод</a></span></li></ul></li><li><span><a href=\"#Предобработка-данных\" data-toc-modified-id=\"Предобработка-данных-2\"><span class=\"toc-item-num\">2&nbsp;&nbsp;</span>Предобработка данных</a></span></li><li><span><a href=\"#Расчёты-и-добавление-результатов-в-таблицу\" data-toc-modified-id=\"Расчёты-и-добавление-результатов-в-таблицу-3\"><span class=\"toc-item-num\">3&nbsp;&nbsp;</span>Расчёты и добавление результатов в таблицу</a></span></li><li><span><a href=\"#Исследовательский-анализ-данных\" data-toc-modified-id=\"Исследовательский-анализ-данных-4\"><span class=\"toc-item-num\">4&nbsp;&nbsp;</span>Исследовательский анализ данных</a></span></li><li><span><a href=\"#Общий-вывод\" data-toc-modified-id=\"Общий-вывод-5\"><span class=\"toc-item-num\">5&nbsp;&nbsp;</span>Общий вывод</a></span></li><li><span><a href=\"#Чек-лист-готовности-проекта\" data-toc-modified-id=\"Чек-лист-готовности-проекта-6\"><span class=\"toc-item-num\">6&nbsp;&nbsp;</span>Чек-лист готовности проекта</a></span></li></ul></div>"
   ]
  },
  {
   "cell_type": "markdown",
   "metadata": {},
   "source": [
    "# Исследование объявлений о продаже квартир\n",
    "\n",
    "В вашем распоряжении данные сервиса Яндекс.Недвижимость — архив объявлений о продаже квартир в Санкт-Петербурге и соседних населённых пунктах за несколько лет. Нужно научиться определять рыночную стоимость объектов недвижимости. Ваша задача — установить параметры. Это позволит построить автоматизированную систему: она отследит аномалии и мошенническую деятельность. \n",
    "\n",
    "По каждой квартире на продажу доступны два вида данных. Первые вписаны пользователем, вторые получены автоматически на основе картографических данных. Например, расстояние до центра, аэропорта, ближайшего парка и водоёма. "
   ]
  },
  {
   "cell_type": "markdown",
   "metadata": {},
   "source": [
    "## Изучение данных из файла"
   ]
  },
  {
   "cell_type": "code",
   "execution_count": 1,
   "metadata": {},
   "outputs": [
    {
     "name": "stdout",
     "output_type": "stream",
     "text": [
      "(23699, 22)\n",
      "<class 'pandas.core.frame.DataFrame'>\n",
      "RangeIndex: 23699 entries, 0 to 23698\n",
      "Data columns (total 22 columns):\n",
      "total_images            23699 non-null int64\n",
      "last_price              23699 non-null float64\n",
      "total_area              23699 non-null float64\n",
      "first_day_exposition    23699 non-null object\n",
      "rooms                   23699 non-null int64\n",
      "ceiling_height          14504 non-null float64\n",
      "floors_total            23613 non-null float64\n",
      "living_area             21796 non-null float64\n",
      "floor                   23699 non-null int64\n",
      "is_apartment            2775 non-null object\n",
      "studio                  23699 non-null bool\n",
      "open_plan               23699 non-null bool\n",
      "kitchen_area            21421 non-null float64\n",
      "balcony                 12180 non-null float64\n",
      "locality_name           23650 non-null object\n",
      "airports_nearest        18157 non-null float64\n",
      "cityCenters_nearest     18180 non-null float64\n",
      "parks_around3000        18181 non-null float64\n",
      "parks_nearest           8079 non-null float64\n",
      "ponds_around3000        18181 non-null float64\n",
      "ponds_nearest           9110 non-null float64\n",
      "days_exposition         20518 non-null float64\n",
      "dtypes: bool(2), float64(14), int64(3), object(3)\n",
      "memory usage: 3.7+ MB\n"
     ]
    },
    {
     "data": {
      "text/plain": [
       "None"
      ]
     },
     "metadata": {},
     "output_type": "display_data"
    },
    {
     "data": {
      "text/html": [
       "<div>\n",
       "<style scoped>\n",
       "    .dataframe tbody tr th:only-of-type {\n",
       "        vertical-align: middle;\n",
       "    }\n",
       "\n",
       "    .dataframe tbody tr th {\n",
       "        vertical-align: top;\n",
       "    }\n",
       "\n",
       "    .dataframe thead th {\n",
       "        text-align: right;\n",
       "    }\n",
       "</style>\n",
       "<table border=\"1\" class=\"dataframe\">\n",
       "  <thead>\n",
       "    <tr style=\"text-align: right;\">\n",
       "      <th></th>\n",
       "      <th>total_images</th>\n",
       "      <th>last_price</th>\n",
       "      <th>total_area</th>\n",
       "      <th>first_day_exposition</th>\n",
       "      <th>rooms</th>\n",
       "      <th>ceiling_height</th>\n",
       "      <th>floors_total</th>\n",
       "      <th>living_area</th>\n",
       "      <th>floor</th>\n",
       "      <th>is_apartment</th>\n",
       "      <th>...</th>\n",
       "      <th>kitchen_area</th>\n",
       "      <th>balcony</th>\n",
       "      <th>locality_name</th>\n",
       "      <th>airports_nearest</th>\n",
       "      <th>cityCenters_nearest</th>\n",
       "      <th>parks_around3000</th>\n",
       "      <th>parks_nearest</th>\n",
       "      <th>ponds_around3000</th>\n",
       "      <th>ponds_nearest</th>\n",
       "      <th>days_exposition</th>\n",
       "    </tr>\n",
       "  </thead>\n",
       "  <tbody>\n",
       "    <tr>\n",
       "      <td>0</td>\n",
       "      <td>20</td>\n",
       "      <td>13000000.0</td>\n",
       "      <td>108.0</td>\n",
       "      <td>2019-03-07T00:00:00</td>\n",
       "      <td>3</td>\n",
       "      <td>2.70</td>\n",
       "      <td>16.0</td>\n",
       "      <td>51.0</td>\n",
       "      <td>8</td>\n",
       "      <td>NaN</td>\n",
       "      <td>...</td>\n",
       "      <td>25.0</td>\n",
       "      <td>NaN</td>\n",
       "      <td>Санкт-Петербург</td>\n",
       "      <td>18863.0</td>\n",
       "      <td>16028.0</td>\n",
       "      <td>1.0</td>\n",
       "      <td>482.0</td>\n",
       "      <td>2.0</td>\n",
       "      <td>755.0</td>\n",
       "      <td>NaN</td>\n",
       "    </tr>\n",
       "    <tr>\n",
       "      <td>1</td>\n",
       "      <td>7</td>\n",
       "      <td>3350000.0</td>\n",
       "      <td>40.4</td>\n",
       "      <td>2018-12-04T00:00:00</td>\n",
       "      <td>1</td>\n",
       "      <td>NaN</td>\n",
       "      <td>11.0</td>\n",
       "      <td>18.6</td>\n",
       "      <td>1</td>\n",
       "      <td>NaN</td>\n",
       "      <td>...</td>\n",
       "      <td>11.0</td>\n",
       "      <td>2.0</td>\n",
       "      <td>посёлок Шушары</td>\n",
       "      <td>12817.0</td>\n",
       "      <td>18603.0</td>\n",
       "      <td>0.0</td>\n",
       "      <td>NaN</td>\n",
       "      <td>0.0</td>\n",
       "      <td>NaN</td>\n",
       "      <td>81.0</td>\n",
       "    </tr>\n",
       "    <tr>\n",
       "      <td>2</td>\n",
       "      <td>10</td>\n",
       "      <td>5196000.0</td>\n",
       "      <td>56.0</td>\n",
       "      <td>2015-08-20T00:00:00</td>\n",
       "      <td>2</td>\n",
       "      <td>NaN</td>\n",
       "      <td>5.0</td>\n",
       "      <td>34.3</td>\n",
       "      <td>4</td>\n",
       "      <td>NaN</td>\n",
       "      <td>...</td>\n",
       "      <td>8.3</td>\n",
       "      <td>0.0</td>\n",
       "      <td>Санкт-Петербург</td>\n",
       "      <td>21741.0</td>\n",
       "      <td>13933.0</td>\n",
       "      <td>1.0</td>\n",
       "      <td>90.0</td>\n",
       "      <td>2.0</td>\n",
       "      <td>574.0</td>\n",
       "      <td>558.0</td>\n",
       "    </tr>\n",
       "    <tr>\n",
       "      <td>3</td>\n",
       "      <td>0</td>\n",
       "      <td>64900000.0</td>\n",
       "      <td>159.0</td>\n",
       "      <td>2015-07-24T00:00:00</td>\n",
       "      <td>3</td>\n",
       "      <td>NaN</td>\n",
       "      <td>14.0</td>\n",
       "      <td>NaN</td>\n",
       "      <td>9</td>\n",
       "      <td>NaN</td>\n",
       "      <td>...</td>\n",
       "      <td>NaN</td>\n",
       "      <td>0.0</td>\n",
       "      <td>Санкт-Петербург</td>\n",
       "      <td>28098.0</td>\n",
       "      <td>6800.0</td>\n",
       "      <td>2.0</td>\n",
       "      <td>84.0</td>\n",
       "      <td>3.0</td>\n",
       "      <td>234.0</td>\n",
       "      <td>424.0</td>\n",
       "    </tr>\n",
       "    <tr>\n",
       "      <td>4</td>\n",
       "      <td>2</td>\n",
       "      <td>10000000.0</td>\n",
       "      <td>100.0</td>\n",
       "      <td>2018-06-19T00:00:00</td>\n",
       "      <td>2</td>\n",
       "      <td>3.03</td>\n",
       "      <td>14.0</td>\n",
       "      <td>32.0</td>\n",
       "      <td>13</td>\n",
       "      <td>NaN</td>\n",
       "      <td>...</td>\n",
       "      <td>41.0</td>\n",
       "      <td>NaN</td>\n",
       "      <td>Санкт-Петербург</td>\n",
       "      <td>31856.0</td>\n",
       "      <td>8098.0</td>\n",
       "      <td>2.0</td>\n",
       "      <td>112.0</td>\n",
       "      <td>1.0</td>\n",
       "      <td>48.0</td>\n",
       "      <td>121.0</td>\n",
       "    </tr>\n",
       "  </tbody>\n",
       "</table>\n",
       "<p>5 rows × 22 columns</p>\n",
       "</div>"
      ],
      "text/plain": [
       "   total_images  last_price  total_area first_day_exposition  rooms  \\\n",
       "0            20  13000000.0       108.0  2019-03-07T00:00:00      3   \n",
       "1             7   3350000.0        40.4  2018-12-04T00:00:00      1   \n",
       "2            10   5196000.0        56.0  2015-08-20T00:00:00      2   \n",
       "3             0  64900000.0       159.0  2015-07-24T00:00:00      3   \n",
       "4             2  10000000.0       100.0  2018-06-19T00:00:00      2   \n",
       "\n",
       "   ceiling_height  floors_total  living_area  floor is_apartment  ...  \\\n",
       "0            2.70          16.0         51.0      8          NaN  ...   \n",
       "1             NaN          11.0         18.6      1          NaN  ...   \n",
       "2             NaN           5.0         34.3      4          NaN  ...   \n",
       "3             NaN          14.0          NaN      9          NaN  ...   \n",
       "4            3.03          14.0         32.0     13          NaN  ...   \n",
       "\n",
       "   kitchen_area  balcony    locality_name  airports_nearest  \\\n",
       "0          25.0      NaN  Санкт-Петербург           18863.0   \n",
       "1          11.0      2.0   посёлок Шушары           12817.0   \n",
       "2           8.3      0.0  Санкт-Петербург           21741.0   \n",
       "3           NaN      0.0  Санкт-Петербург           28098.0   \n",
       "4          41.0      NaN  Санкт-Петербург           31856.0   \n",
       "\n",
       "  cityCenters_nearest  parks_around3000  parks_nearest  ponds_around3000  \\\n",
       "0             16028.0               1.0          482.0               2.0   \n",
       "1             18603.0               0.0            NaN               0.0   \n",
       "2             13933.0               1.0           90.0               2.0   \n",
       "3              6800.0               2.0           84.0               3.0   \n",
       "4              8098.0               2.0          112.0               1.0   \n",
       "\n",
       "   ponds_nearest  days_exposition  \n",
       "0          755.0              NaN  \n",
       "1            NaN             81.0  \n",
       "2          574.0            558.0  \n",
       "3          234.0            424.0  \n",
       "4           48.0            121.0  \n",
       "\n",
       "[5 rows x 22 columns]"
      ]
     },
     "metadata": {},
     "output_type": "display_data"
    }
   ],
   "source": [
    "import pandas as pd\n",
    "\n",
    "data = pd.read_csv('/datasets/real_estate_data.csv', sep='\\t')\n",
    "print(data.shape) #оцениваем датафрейм\n",
    "display(data.info()) #оцениваем тип данных\n",
    "display(data.head(5)) #смотрим первые 5 строк"
   ]
  },
  {
   "cell_type": "markdown",
   "metadata": {},
   "source": [
    "### Вывод"
   ]
  },
  {
   "cell_type": "markdown",
   "metadata": {},
   "source": []
  },
  {
   "cell_type": "markdown",
   "metadata": {},
   "source": [
    "***Наши данные***\n",
    "У нас 23 699 строк, часть данных целочисленные, часть дробные, есть булевые значения и текстовые. Есть пропуски, надо решить что с ними делать. Есть даты - надо будет переводить в формат даты. "
   ]
  },
  {
   "cell_type": "markdown",
   "metadata": {},
   "source": [
    "## Предобработка данных"
   ]
  },
  {
   "cell_type": "code",
   "execution_count": 13,
   "metadata": {},
   "outputs": [
    {
     "name": "stdout",
     "output_type": "stream",
     "text": [
      "<class 'pandas.core.frame.DataFrame'>\n",
      "Int64Index: 23650 entries, 0 to 23698\n",
      "Data columns (total 26 columns):\n",
      "total_images            23650 non-null int64\n",
      "last_price              23650 non-null int64\n",
      "total_area              23650 non-null float64\n",
      "first_day_exposition    23650 non-null datetime64[ns]\n",
      "rooms                   23650 non-null int64\n",
      "ceiling_height          23649 non-null float64\n",
      "floors_total            23650 non-null int64\n",
      "living_area             21752 non-null float64\n",
      "floor                   23650 non-null int64\n",
      "is_apartment            2760 non-null object\n",
      "studio                  23650 non-null bool\n",
      "open_plan               23650 non-null bool\n",
      "kitchen_area            23650 non-null float64\n",
      "balcony                 23650 non-null float64\n",
      "locality_name           23650 non-null object\n",
      "airports_nearest        18116 non-null float64\n",
      "cityCenters_nearest     18139 non-null float64\n",
      "parks_around3000        18140 non-null float64\n",
      "parks_nearest           8064 non-null float64\n",
      "ponds_around3000        18140 non-null float64\n",
      "ponds_nearest           9085 non-null float64\n",
      "days_exposition         20470 non-null float64\n",
      "price_m                 23650 non-null int64\n",
      "month                   23650 non-null int64\n",
      "week_day                23650 non-null int64\n",
      "year                    23650 non-null int64\n",
      "dtypes: bool(2), datetime64[ns](1), float64(12), int64(9), object(2)\n",
      "memory usage: 4.6+ MB\n",
      "None\n",
      "[nan False True]\n",
      "<class 'pandas.core.frame.DataFrame'>\n",
      "Int64Index: 23650 entries, 0 to 23698\n",
      "Data columns (total 26 columns):\n",
      "total_images            23650 non-null int64\n",
      "last_price              23650 non-null int64\n",
      "total_area              23650 non-null float64\n",
      "first_day_exposition    23650 non-null datetime64[ns]\n",
      "rooms                   23650 non-null int64\n",
      "ceiling_height          23649 non-null float64\n",
      "floors_total            23650 non-null int64\n",
      "living_area             21752 non-null float64\n",
      "floor                   23650 non-null int64\n",
      "is_apartment            2760 non-null object\n",
      "studio                  23650 non-null bool\n",
      "open_plan               23650 non-null bool\n",
      "kitchen_area            23650 non-null float64\n",
      "balcony                 23650 non-null float64\n",
      "locality_name           23650 non-null object\n",
      "airports_nearest        18116 non-null float64\n",
      "cityCenters_nearest     18139 non-null float64\n",
      "parks_around3000        18140 non-null float64\n",
      "parks_nearest           8064 non-null float64\n",
      "ponds_around3000        18140 non-null float64\n",
      "ponds_nearest           9085 non-null float64\n",
      "days_exposition         20470 non-null float64\n",
      "price_m                 23650 non-null int64\n",
      "month                   23650 non-null int64\n",
      "week_day                23650 non-null int64\n",
      "year                    23650 non-null int64\n",
      "dtypes: bool(2), datetime64[ns](1), float64(12), int64(9), object(2)\n",
      "memory usage: 4.6+ MB\n",
      "None\n"
     ]
    },
    {
     "data": {
      "text/html": [
       "<div>\n",
       "<style scoped>\n",
       "    .dataframe tbody tr th:only-of-type {\n",
       "        vertical-align: middle;\n",
       "    }\n",
       "\n",
       "    .dataframe tbody tr th {\n",
       "        vertical-align: top;\n",
       "    }\n",
       "\n",
       "    .dataframe thead th {\n",
       "        text-align: right;\n",
       "    }\n",
       "</style>\n",
       "<table border=\"1\" class=\"dataframe\">\n",
       "  <thead>\n",
       "    <tr style=\"text-align: right;\">\n",
       "      <th></th>\n",
       "      <th>total_images</th>\n",
       "      <th>last_price</th>\n",
       "      <th>total_area</th>\n",
       "      <th>first_day_exposition</th>\n",
       "      <th>rooms</th>\n",
       "      <th>ceiling_height</th>\n",
       "      <th>floors_total</th>\n",
       "      <th>living_area</th>\n",
       "      <th>floor</th>\n",
       "      <th>is_apartment</th>\n",
       "      <th>...</th>\n",
       "      <th>cityCenters_nearest</th>\n",
       "      <th>parks_around3000</th>\n",
       "      <th>parks_nearest</th>\n",
       "      <th>ponds_around3000</th>\n",
       "      <th>ponds_nearest</th>\n",
       "      <th>days_exposition</th>\n",
       "      <th>price_m</th>\n",
       "      <th>month</th>\n",
       "      <th>week_day</th>\n",
       "      <th>year</th>\n",
       "    </tr>\n",
       "  </thead>\n",
       "  <tbody>\n",
       "    <tr>\n",
       "      <td>0</td>\n",
       "      <td>20</td>\n",
       "      <td>13000000</td>\n",
       "      <td>108.00</td>\n",
       "      <td>2019-03-07</td>\n",
       "      <td>3</td>\n",
       "      <td>2.70</td>\n",
       "      <td>16</td>\n",
       "      <td>51.00</td>\n",
       "      <td>8</td>\n",
       "      <td>NaN</td>\n",
       "      <td>...</td>\n",
       "      <td>16028.0</td>\n",
       "      <td>1.0</td>\n",
       "      <td>482.0</td>\n",
       "      <td>2.0</td>\n",
       "      <td>755.0</td>\n",
       "      <td>NaN</td>\n",
       "      <td>120370</td>\n",
       "      <td>3</td>\n",
       "      <td>3</td>\n",
       "      <td>2019</td>\n",
       "    </tr>\n",
       "    <tr>\n",
       "      <td>1</td>\n",
       "      <td>7</td>\n",
       "      <td>3350000</td>\n",
       "      <td>40.40</td>\n",
       "      <td>2018-12-04</td>\n",
       "      <td>1</td>\n",
       "      <td>2.75</td>\n",
       "      <td>11</td>\n",
       "      <td>18.60</td>\n",
       "      <td>1</td>\n",
       "      <td>NaN</td>\n",
       "      <td>...</td>\n",
       "      <td>18603.0</td>\n",
       "      <td>0.0</td>\n",
       "      <td>NaN</td>\n",
       "      <td>0.0</td>\n",
       "      <td>NaN</td>\n",
       "      <td>81.0</td>\n",
       "      <td>82920</td>\n",
       "      <td>12</td>\n",
       "      <td>1</td>\n",
       "      <td>2018</td>\n",
       "    </tr>\n",
       "    <tr>\n",
       "      <td>2</td>\n",
       "      <td>10</td>\n",
       "      <td>5196000</td>\n",
       "      <td>56.00</td>\n",
       "      <td>2015-08-20</td>\n",
       "      <td>2</td>\n",
       "      <td>2.55</td>\n",
       "      <td>5</td>\n",
       "      <td>34.30</td>\n",
       "      <td>4</td>\n",
       "      <td>NaN</td>\n",
       "      <td>...</td>\n",
       "      <td>13933.0</td>\n",
       "      <td>1.0</td>\n",
       "      <td>90.0</td>\n",
       "      <td>2.0</td>\n",
       "      <td>574.0</td>\n",
       "      <td>558.0</td>\n",
       "      <td>92785</td>\n",
       "      <td>8</td>\n",
       "      <td>3</td>\n",
       "      <td>2015</td>\n",
       "    </tr>\n",
       "    <tr>\n",
       "      <td>3</td>\n",
       "      <td>0</td>\n",
       "      <td>64900000</td>\n",
       "      <td>159.00</td>\n",
       "      <td>2015-07-24</td>\n",
       "      <td>3</td>\n",
       "      <td>2.60</td>\n",
       "      <td>14</td>\n",
       "      <td>NaN</td>\n",
       "      <td>9</td>\n",
       "      <td>NaN</td>\n",
       "      <td>...</td>\n",
       "      <td>6800.0</td>\n",
       "      <td>2.0</td>\n",
       "      <td>84.0</td>\n",
       "      <td>3.0</td>\n",
       "      <td>234.0</td>\n",
       "      <td>424.0</td>\n",
       "      <td>408176</td>\n",
       "      <td>7</td>\n",
       "      <td>4</td>\n",
       "      <td>2015</td>\n",
       "    </tr>\n",
       "    <tr>\n",
       "      <td>4</td>\n",
       "      <td>2</td>\n",
       "      <td>10000000</td>\n",
       "      <td>100.00</td>\n",
       "      <td>2018-06-19</td>\n",
       "      <td>2</td>\n",
       "      <td>3.03</td>\n",
       "      <td>14</td>\n",
       "      <td>32.00</td>\n",
       "      <td>13</td>\n",
       "      <td>NaN</td>\n",
       "      <td>...</td>\n",
       "      <td>8098.0</td>\n",
       "      <td>2.0</td>\n",
       "      <td>112.0</td>\n",
       "      <td>1.0</td>\n",
       "      <td>48.0</td>\n",
       "      <td>121.0</td>\n",
       "      <td>100000</td>\n",
       "      <td>6</td>\n",
       "      <td>1</td>\n",
       "      <td>2018</td>\n",
       "    </tr>\n",
       "    <tr>\n",
       "      <td>5</td>\n",
       "      <td>10</td>\n",
       "      <td>2890000</td>\n",
       "      <td>30.40</td>\n",
       "      <td>2018-09-10</td>\n",
       "      <td>1</td>\n",
       "      <td>2.65</td>\n",
       "      <td>12</td>\n",
       "      <td>14.40</td>\n",
       "      <td>5</td>\n",
       "      <td>NaN</td>\n",
       "      <td>...</td>\n",
       "      <td>NaN</td>\n",
       "      <td>NaN</td>\n",
       "      <td>NaN</td>\n",
       "      <td>NaN</td>\n",
       "      <td>NaN</td>\n",
       "      <td>55.0</td>\n",
       "      <td>95065</td>\n",
       "      <td>9</td>\n",
       "      <td>0</td>\n",
       "      <td>2018</td>\n",
       "    </tr>\n",
       "    <tr>\n",
       "      <td>6</td>\n",
       "      <td>6</td>\n",
       "      <td>3700000</td>\n",
       "      <td>37.30</td>\n",
       "      <td>2017-11-02</td>\n",
       "      <td>1</td>\n",
       "      <td>2.66</td>\n",
       "      <td>26</td>\n",
       "      <td>10.60</td>\n",
       "      <td>6</td>\n",
       "      <td>NaN</td>\n",
       "      <td>...</td>\n",
       "      <td>19143.0</td>\n",
       "      <td>0.0</td>\n",
       "      <td>NaN</td>\n",
       "      <td>0.0</td>\n",
       "      <td>NaN</td>\n",
       "      <td>155.0</td>\n",
       "      <td>99195</td>\n",
       "      <td>11</td>\n",
       "      <td>3</td>\n",
       "      <td>2017</td>\n",
       "    </tr>\n",
       "    <tr>\n",
       "      <td>7</td>\n",
       "      <td>5</td>\n",
       "      <td>7915000</td>\n",
       "      <td>71.60</td>\n",
       "      <td>2019-04-18</td>\n",
       "      <td>2</td>\n",
       "      <td>2.75</td>\n",
       "      <td>24</td>\n",
       "      <td>NaN</td>\n",
       "      <td>22</td>\n",
       "      <td>NaN</td>\n",
       "      <td>...</td>\n",
       "      <td>11634.0</td>\n",
       "      <td>0.0</td>\n",
       "      <td>NaN</td>\n",
       "      <td>0.0</td>\n",
       "      <td>NaN</td>\n",
       "      <td>NaN</td>\n",
       "      <td>110544</td>\n",
       "      <td>4</td>\n",
       "      <td>3</td>\n",
       "      <td>2019</td>\n",
       "    </tr>\n",
       "    <tr>\n",
       "      <td>8</td>\n",
       "      <td>20</td>\n",
       "      <td>2900000</td>\n",
       "      <td>33.16</td>\n",
       "      <td>2018-05-23</td>\n",
       "      <td>1</td>\n",
       "      <td>2.70</td>\n",
       "      <td>27</td>\n",
       "      <td>15.43</td>\n",
       "      <td>26</td>\n",
       "      <td>NaN</td>\n",
       "      <td>...</td>\n",
       "      <td>NaN</td>\n",
       "      <td>NaN</td>\n",
       "      <td>NaN</td>\n",
       "      <td>NaN</td>\n",
       "      <td>NaN</td>\n",
       "      <td>189.0</td>\n",
       "      <td>87454</td>\n",
       "      <td>5</td>\n",
       "      <td>2</td>\n",
       "      <td>2018</td>\n",
       "    </tr>\n",
       "    <tr>\n",
       "      <td>9</td>\n",
       "      <td>18</td>\n",
       "      <td>5400000</td>\n",
       "      <td>61.00</td>\n",
       "      <td>2017-02-26</td>\n",
       "      <td>3</td>\n",
       "      <td>2.50</td>\n",
       "      <td>9</td>\n",
       "      <td>43.60</td>\n",
       "      <td>7</td>\n",
       "      <td>NaN</td>\n",
       "      <td>...</td>\n",
       "      <td>15008.0</td>\n",
       "      <td>0.0</td>\n",
       "      <td>NaN</td>\n",
       "      <td>0.0</td>\n",
       "      <td>NaN</td>\n",
       "      <td>289.0</td>\n",
       "      <td>88524</td>\n",
       "      <td>2</td>\n",
       "      <td>6</td>\n",
       "      <td>2017</td>\n",
       "    </tr>\n",
       "  </tbody>\n",
       "</table>\n",
       "<p>10 rows × 26 columns</p>\n",
       "</div>"
      ],
      "text/plain": [
       "   total_images  last_price  total_area first_day_exposition  rooms  \\\n",
       "0            20    13000000      108.00           2019-03-07      3   \n",
       "1             7     3350000       40.40           2018-12-04      1   \n",
       "2            10     5196000       56.00           2015-08-20      2   \n",
       "3             0    64900000      159.00           2015-07-24      3   \n",
       "4             2    10000000      100.00           2018-06-19      2   \n",
       "5            10     2890000       30.40           2018-09-10      1   \n",
       "6             6     3700000       37.30           2017-11-02      1   \n",
       "7             5     7915000       71.60           2019-04-18      2   \n",
       "8            20     2900000       33.16           2018-05-23      1   \n",
       "9            18     5400000       61.00           2017-02-26      3   \n",
       "\n",
       "   ceiling_height  floors_total  living_area  floor is_apartment  ...  \\\n",
       "0            2.70            16        51.00      8          NaN  ...   \n",
       "1            2.75            11        18.60      1          NaN  ...   \n",
       "2            2.55             5        34.30      4          NaN  ...   \n",
       "3            2.60            14          NaN      9          NaN  ...   \n",
       "4            3.03            14        32.00     13          NaN  ...   \n",
       "5            2.65            12        14.40      5          NaN  ...   \n",
       "6            2.66            26        10.60      6          NaN  ...   \n",
       "7            2.75            24          NaN     22          NaN  ...   \n",
       "8            2.70            27        15.43     26          NaN  ...   \n",
       "9            2.50             9        43.60      7          NaN  ...   \n",
       "\n",
       "   cityCenters_nearest  parks_around3000  parks_nearest  ponds_around3000  \\\n",
       "0              16028.0               1.0          482.0               2.0   \n",
       "1              18603.0               0.0            NaN               0.0   \n",
       "2              13933.0               1.0           90.0               2.0   \n",
       "3               6800.0               2.0           84.0               3.0   \n",
       "4               8098.0               2.0          112.0               1.0   \n",
       "5                  NaN               NaN            NaN               NaN   \n",
       "6              19143.0               0.0            NaN               0.0   \n",
       "7              11634.0               0.0            NaN               0.0   \n",
       "8                  NaN               NaN            NaN               NaN   \n",
       "9              15008.0               0.0            NaN               0.0   \n",
       "\n",
       "  ponds_nearest  days_exposition  price_m  month  week_day  year  \n",
       "0         755.0              NaN   120370      3         3  2019  \n",
       "1           NaN             81.0    82920     12         1  2018  \n",
       "2         574.0            558.0    92785      8         3  2015  \n",
       "3         234.0            424.0   408176      7         4  2015  \n",
       "4          48.0            121.0   100000      6         1  2018  \n",
       "5           NaN             55.0    95065      9         0  2018  \n",
       "6           NaN            155.0    99195     11         3  2017  \n",
       "7           NaN              NaN   110544      4         3  2019  \n",
       "8           NaN            189.0    87454      5         2  2018  \n",
       "9           NaN            289.0    88524      2         6  2017  \n",
       "\n",
       "[10 rows x 26 columns]"
      ]
     },
     "metadata": {},
     "output_type": "display_data"
    }
   ],
   "source": [
    "data['balcony']= data['balcony'].fillna(0)\n",
    "print(data.info())\n",
    "print(data['is_apartment'].unique()) #здесь должны быть булевы значения, но вместо этого есть пропуски. Мне не понятно пока, как это можно заменить. \n",
    "data['last_price'] = data['last_price'].astype('int') #заменим вещественный тип на целочисленный в ценах, т.к. цены в рублях и копейки не имеют значения при таких суммах\n",
    "data['floors_total'] = data['floors_total'].fillna(0).astype('int') #этажность имеет значение. При этом пропущенных значений в этажности менее 1%, так что не страшно, если мы заменим на 0 и на целые значения \n",
    "data['first_day_exposition'] = pd.to_datetime(data['first_day_exposition'], format='%Y-%m-%dT%H:%M:%S') #переводим значения в first_day_exposition  в формат даты\n",
    "data = data.dropna(subset=['locality_name']) #в будущем нам понадобится анализировать населенные пункты, поэтому строки без указания населенного пункта удалим, их очень мало\n",
    "data.loc[data['kitchen_area'].isna(), 'kitchen_area'] = data['kitchen_area'].median() #заполнили пропуски в данных по площади кухни медианными значениями\n",
    "for floor in data['floors_total'].unique():\n",
    "    median = data.loc[data['floors_total'] == floor, 'ceiling_height'].median()\n",
    "    data.loc[(data['ceiling_height'].isna()) & (data['floors_total'] == floor), 'ceiling_height'] = median #заменим отсутствующие значения в ceiling_height на медиану по сгруппированным значениям этажности дома. Только я не понимаю, почему получилось 23 649 значений?...\n",
    "print(data.info())\n",
    "display(data.head(10))\n"
   ]
  },
  {
   "cell_type": "markdown",
   "metadata": {},
   "source": [
    "## Расчёты и добавление результатов в таблицу"
   ]
  },
  {
   "cell_type": "code",
   "execution_count": 3,
   "metadata": {},
   "outputs": [
    {
     "data": {
      "text/html": [
       "<div>\n",
       "<style scoped>\n",
       "    .dataframe tbody tr th:only-of-type {\n",
       "        vertical-align: middle;\n",
       "    }\n",
       "\n",
       "    .dataframe tbody tr th {\n",
       "        vertical-align: top;\n",
       "    }\n",
       "\n",
       "    .dataframe thead th {\n",
       "        text-align: right;\n",
       "    }\n",
       "</style>\n",
       "<table border=\"1\" class=\"dataframe\">\n",
       "  <thead>\n",
       "    <tr style=\"text-align: right;\">\n",
       "      <th></th>\n",
       "      <th>month</th>\n",
       "      <th>first_day_exposition</th>\n",
       "      <th>week_day</th>\n",
       "      <th>year</th>\n",
       "    </tr>\n",
       "  </thead>\n",
       "  <tbody>\n",
       "    <tr>\n",
       "      <td>0</td>\n",
       "      <td>3</td>\n",
       "      <td>2019-03-07</td>\n",
       "      <td>3</td>\n",
       "      <td>2019</td>\n",
       "    </tr>\n",
       "    <tr>\n",
       "      <td>1</td>\n",
       "      <td>12</td>\n",
       "      <td>2018-12-04</td>\n",
       "      <td>1</td>\n",
       "      <td>2018</td>\n",
       "    </tr>\n",
       "    <tr>\n",
       "      <td>2</td>\n",
       "      <td>8</td>\n",
       "      <td>2015-08-20</td>\n",
       "      <td>3</td>\n",
       "      <td>2015</td>\n",
       "    </tr>\n",
       "    <tr>\n",
       "      <td>3</td>\n",
       "      <td>7</td>\n",
       "      <td>2015-07-24</td>\n",
       "      <td>4</td>\n",
       "      <td>2015</td>\n",
       "    </tr>\n",
       "    <tr>\n",
       "      <td>4</td>\n",
       "      <td>6</td>\n",
       "      <td>2018-06-19</td>\n",
       "      <td>1</td>\n",
       "      <td>2018</td>\n",
       "    </tr>\n",
       "  </tbody>\n",
       "</table>\n",
       "</div>"
      ],
      "text/plain": [
       "   month first_day_exposition  week_day  year\n",
       "0      3           2019-03-07         3  2019\n",
       "1     12           2018-12-04         1  2018\n",
       "2      8           2015-08-20         3  2015\n",
       "3      7           2015-07-24         4  2015\n",
       "4      6           2018-06-19         1  2018"
      ]
     },
     "metadata": {},
     "output_type": "display_data"
    },
    {
     "name": "stdout",
     "output_type": "stream",
     "text": [
      "[ 8  1  4  9 13  5  6 22 26  7  3  2 11 15 18 10 19 16 20 27 25 17 14 12\n",
      " 21 28 24 23 30 29 32 33 31]\n"
     ]
    }
   ],
   "source": [
    "data['price_m'] = (data['last_price']/data['total_area']).astype('int') #вычислим цену квадратного метра и сразу переведем в целочисленные значения\n",
    "data['month'] = pd.DatetimeIndex(data['first_day_exposition']).month #добавим колонку \"Месяц\" в таблицу - месяц публикации объявления\n",
    "data['week_day'] = pd.DatetimeIndex(data['first_day_exposition']).weekday #добавим колонку \"День недели\" в таблицу - день недели публикации объявления\n",
    "data['year'] = pd.DatetimeIndex(data['first_day_exposition']).year #добавим колонку \"Год\" в таблицу - год публикации объявления\n",
    "display(data[['month', 'first_day_exposition', 'week_day', 'year']].head(5)) #проверим, что сделали всё верно\n",
    "print(data['floor'].unique())\n",
    "\n",
    "        \n",
    "\n",
    "    \n"
   ]
  },
  {
   "cell_type": "markdown",
   "metadata": {},
   "source": [
    "## Исследовательский анализ данных"
   ]
  },
  {
   "cell_type": "code",
   "execution_count": null,
   "metadata": {},
   "outputs": [],
   "source": []
  },
  {
   "cell_type": "markdown",
   "metadata": {},
   "source": [
    "## Общий вывод"
   ]
  },
  {
   "cell_type": "markdown",
   "metadata": {},
   "source": []
  },
  {
   "cell_type": "markdown",
   "metadata": {},
   "source": [
    "## Чек-лист готовности проекта\n",
    "\n",
    "Поставьте 'x' в выполненных пунктах. Далее нажмите Shift+Enter."
   ]
  },
  {
   "cell_type": "markdown",
   "metadata": {},
   "source": [
    "- [x]  открыт файл\n",
    "- [ ]  файлы изучены (выведены первые строки, метод info())\n",
    "- [ ]  определены пропущенные значения\n",
    "- [ ]  заполнены пропущенные значения\n",
    "- [ ]  есть пояснение, какие пропущенные значения обнаружены\n",
    "- [ ]  изменены типы данных\n",
    "- [ ]  есть пояснение, в каких столбцах изменены типы и почему\n",
    "- [x]  посчитано и добавлено в таблицу: цена квадратного метра\n",
    "- [x]  посчитано и добавлено в таблицу: день недели, месяц и год публикации объявления\n",
    "- [ ]  посчитано и добавлено в таблицу: этаж квартиры; варианты — первый, последний, другой\n",
    "- [ ]  посчитано и добавлено в таблицу: соотношение жилой и общей площади, а также отношение площади кухни к общей\n",
    "- [ ]  изучены следующие параметры: площадь, цена, число комнат, высота потолков\n",
    "- [ ]  построены гистограммы для каждого параметра\n",
    "- [ ]  выполнено задание: \"Изучите время продажи квартиры. Постройте гистограмму. Посчитайте среднее и медиану. Опишите, сколько обычно занимает продажа. Когда можно считать, что продажи прошли очень быстро, а когда необычно долго?\"\n",
    "- [ ]  выполнено задание: \"Уберите редкие и выбивающиеся значения. Опишите, какие особенности обнаружили.\"\n",
    "- [ ]  выполнено задание: \"Какие факторы больше всего влияют на стоимость квартиры? Изучите, зависит ли цена от квадратного метра, числа комнат, этажа (первого или последнего), удалённости от центра. Также изучите зависимость от даты размещения: дня недели, месяца и года. \"Выберите 10 населённых пунктов с наибольшим числом объявлений. Посчитайте среднюю цену квадратного метра в этих населённых пунктах. Выделите населённые пункты с самой высокой и низкой стоимостью жилья. Эти данные можно найти по имени в столбце '*locality_name'*. \"\n",
    "- [ ]  выполнено задание: \"Изучите предложения квартир: для каждой квартиры есть информация о расстоянии до центра. Выделите квартиры в Санкт-Петербурге (*'locality_name'*). Ваша задача — выяснить, какая область входит в центр. Создайте столбец с расстоянием до центра в километрах: округлите до целых значений. После этого посчитайте среднюю цену для каждого километра. Постройте график: он должен показывать, как цена зависит от удалённости от центра. Определите границу, где график сильно меняется — это и будет центральная зона. \"\n",
    "- [ ]  выполнено задание: \"Выделите сегмент квартир в центре. Проанализируйте эту территорию и изучите следующие параметры: площадь, цена, число комнат, высота потолков. Также выделите факторы, которые влияют на стоимость квартиры (число комнат, этаж, удалённость от центра, дата размещения объявления). Сделайте выводы. Отличаются ли они от общих выводов по всему городу?\"\n",
    "- [ ]  в каждом этапе есть выводы\n",
    "- [ ]  есть общий вывод"
   ]
  },
  {
   "cell_type": "code",
   "execution_count": null,
   "metadata": {},
   "outputs": [],
   "source": []
  }
 ],
 "metadata": {
  "ExecuteTimeLog": [
   {
    "duration": 118,
    "start_time": "2021-12-21T19:01:48.798Z"
   },
   {
    "duration": 792,
    "start_time": "2021-12-21T19:05:56.974Z"
   },
   {
    "duration": 185,
    "start_time": "2021-12-21T19:06:12.057Z"
   },
   {
    "duration": 98,
    "start_time": "2021-12-21T19:06:20.864Z"
   },
   {
    "duration": 118,
    "start_time": "2021-12-21T19:10:24.466Z"
   },
   {
    "duration": 94,
    "start_time": "2021-12-21T19:13:41.582Z"
   },
   {
    "duration": 87,
    "start_time": "2021-12-21T19:14:38.964Z"
   },
   {
    "duration": 108,
    "start_time": "2021-12-21T19:19:41.741Z"
   },
   {
    "duration": 141,
    "start_time": "2021-12-21T19:19:53.037Z"
   },
   {
    "duration": 122,
    "start_time": "2021-12-21T19:20:55.585Z"
   },
   {
    "duration": 124,
    "start_time": "2021-12-21T19:21:06.446Z"
   },
   {
    "duration": 138,
    "start_time": "2021-12-21T19:21:34.711Z"
   },
   {
    "duration": 8,
    "start_time": "2021-12-21T19:28:24.186Z"
   },
   {
    "duration": 862,
    "start_time": "2021-12-21T19:40:37.660Z"
   },
   {
    "duration": 6,
    "start_time": "2021-12-21T19:41:42.813Z"
   },
   {
    "duration": 388,
    "start_time": "2021-12-21T19:41:57.124Z"
   },
   {
    "duration": 15,
    "start_time": "2021-12-21T19:42:12.748Z"
   },
   {
    "duration": 19,
    "start_time": "2021-12-21T19:43:31.673Z"
   },
   {
    "duration": 21,
    "start_time": "2021-12-21T19:57:29.414Z"
   },
   {
    "duration": 22,
    "start_time": "2021-12-21T19:57:46.411Z"
   },
   {
    "duration": 21,
    "start_time": "2021-12-21T19:58:11.387Z"
   },
   {
    "duration": 25,
    "start_time": "2021-12-21T20:07:45.461Z"
   },
   {
    "duration": 22,
    "start_time": "2021-12-21T20:08:20.916Z"
   },
   {
    "duration": 338,
    "start_time": "2021-12-21T20:09:42.765Z"
   },
   {
    "duration": 1569,
    "start_time": "2021-12-21T20:10:33.481Z"
   },
   {
    "duration": 368,
    "start_time": "2021-12-21T20:10:51.690Z"
   },
   {
    "duration": 41,
    "start_time": "2021-12-21T20:14:27.532Z"
   },
   {
    "duration": 30,
    "start_time": "2021-12-21T20:15:21.290Z"
   },
   {
    "duration": 57,
    "start_time": "2021-12-21T20:16:42.254Z"
   },
   {
    "duration": 62,
    "start_time": "2021-12-21T20:17:45.720Z"
   },
   {
    "duration": 32,
    "start_time": "2021-12-21T20:19:59.994Z"
   },
   {
    "duration": 33,
    "start_time": "2021-12-21T20:28:10.504Z"
   },
   {
    "duration": 21,
    "start_time": "2021-12-21T20:39:07.629Z"
   },
   {
    "duration": 346,
    "start_time": "2021-12-21T20:42:04.131Z"
   },
   {
    "duration": 23,
    "start_time": "2021-12-21T20:42:32.821Z"
   },
   {
    "duration": 342,
    "start_time": "2021-12-21T20:43:26.242Z"
   },
   {
    "duration": 360,
    "start_time": "2021-12-21T20:46:05.059Z"
   },
   {
    "duration": 22,
    "start_time": "2021-12-21T20:48:26.111Z"
   },
   {
    "duration": 23,
    "start_time": "2021-12-21T20:50:06.763Z"
   },
   {
    "duration": 29,
    "start_time": "2021-12-21T20:55:49.141Z"
   },
   {
    "duration": 28,
    "start_time": "2021-12-21T20:56:43.833Z"
   },
   {
    "duration": 29,
    "start_time": "2021-12-21T20:57:07.639Z"
   },
   {
    "duration": 31,
    "start_time": "2021-12-21T20:58:24.634Z"
   },
   {
    "duration": 886,
    "start_time": "2021-12-21T20:58:48.468Z"
   },
   {
    "duration": 33,
    "start_time": "2021-12-21T20:58:49.357Z"
   },
   {
    "duration": 31,
    "start_time": "2021-12-21T20:59:29.571Z"
   },
   {
    "duration": 35,
    "start_time": "2021-12-21T20:59:50.571Z"
   },
   {
    "duration": 222,
    "start_time": "2021-12-21T21:09:10.032Z"
   },
   {
    "duration": 130,
    "start_time": "2021-12-21T21:09:27.501Z"
   },
   {
    "duration": 107,
    "start_time": "2021-12-21T21:10:20.546Z"
   },
   {
    "duration": 142,
    "start_time": "2021-12-21T21:11:19.848Z"
   },
   {
    "duration": 1186,
    "start_time": "2021-12-22T19:14:00.910Z"
   },
   {
    "duration": 163,
    "start_time": "2021-12-22T19:14:02.098Z"
   },
   {
    "duration": 115,
    "start_time": "2021-12-22T19:16:15.175Z"
   },
   {
    "duration": 4147,
    "start_time": "2021-12-22T19:17:01.584Z"
   },
   {
    "duration": 2855,
    "start_time": "2021-12-22T19:17:43.091Z"
   },
   {
    "duration": 2673,
    "start_time": "2021-12-22T19:21:32.319Z"
   },
   {
    "duration": 49,
    "start_time": "2021-12-22T19:22:19.065Z"
   },
   {
    "duration": 68,
    "start_time": "2021-12-22T19:23:02.058Z"
   },
   {
    "duration": 1077,
    "start_time": "2021-12-22T19:23:23.442Z"
   },
   {
    "duration": 74,
    "start_time": "2021-12-22T19:23:24.522Z"
   },
   {
    "duration": 17,
    "start_time": "2021-12-22T20:05:08.941Z"
   },
   {
    "duration": 471,
    "start_time": "2021-12-22T20:05:22.219Z"
   },
   {
    "duration": 8,
    "start_time": "2021-12-22T20:05:47.920Z"
   },
   {
    "duration": 365,
    "start_time": "2021-12-22T20:10:52.790Z"
   },
   {
    "duration": 13,
    "start_time": "2021-12-22T20:11:13.983Z"
   },
   {
    "duration": 7695,
    "start_time": "2021-12-22T20:12:13.184Z"
   },
   {
    "duration": 18,
    "start_time": "2021-12-22T20:12:37.237Z"
   },
   {
    "duration": 16,
    "start_time": "2021-12-22T20:12:50.955Z"
   },
   {
    "duration": 24,
    "start_time": "2021-12-22T20:15:50.408Z"
   },
   {
    "duration": 20,
    "start_time": "2021-12-22T20:16:04.540Z"
   },
   {
    "duration": 27,
    "start_time": "2021-12-22T20:17:05.360Z"
   },
   {
    "duration": 30,
    "start_time": "2021-12-22T20:17:20.187Z"
   },
   {
    "duration": 29,
    "start_time": "2021-12-22T20:17:33.429Z"
   },
   {
    "duration": 32,
    "start_time": "2021-12-22T20:21:24.313Z"
   },
   {
    "duration": 31,
    "start_time": "2021-12-22T20:21:41.902Z"
   },
   {
    "duration": 307,
    "start_time": "2021-12-22T20:22:07.137Z"
   },
   {
    "duration": 31,
    "start_time": "2021-12-22T20:22:16.446Z"
   },
   {
    "duration": 31,
    "start_time": "2021-12-22T20:23:15.906Z"
   },
   {
    "duration": 30,
    "start_time": "2021-12-22T20:23:35.354Z"
   },
   {
    "duration": 33,
    "start_time": "2021-12-22T20:24:27.319Z"
   },
   {
    "duration": 380,
    "start_time": "2021-12-23T19:31:23.464Z"
   },
   {
    "duration": 962,
    "start_time": "2021-12-23T19:32:42.326Z"
   },
   {
    "duration": 53,
    "start_time": "2021-12-23T19:32:43.291Z"
   },
   {
    "duration": 877,
    "start_time": "2021-12-23T19:32:43.347Z"
   },
   {
    "duration": 151,
    "start_time": "2021-12-23T19:39:07.879Z"
   },
   {
    "duration": 104,
    "start_time": "2021-12-23T19:41:16.268Z"
   },
   {
    "duration": 401,
    "start_time": "2021-12-23T19:42:01.148Z"
   },
   {
    "duration": 370,
    "start_time": "2021-12-23T19:44:34.696Z"
   },
   {
    "duration": 372,
    "start_time": "2021-12-23T19:52:52.155Z"
   },
   {
    "duration": 28,
    "start_time": "2021-12-23T19:54:23.848Z"
   },
   {
    "duration": 421,
    "start_time": "2021-12-23T19:54:55.432Z"
   },
   {
    "duration": 32,
    "start_time": "2021-12-23T20:08:48.016Z"
   },
   {
    "duration": 46,
    "start_time": "2021-12-23T20:10:03.871Z"
   },
   {
    "duration": 66,
    "start_time": "2021-12-23T20:10:26.191Z"
   },
   {
    "duration": 113,
    "start_time": "2021-12-23T20:10:57.107Z"
   },
   {
    "duration": 69,
    "start_time": "2021-12-23T20:13:45.123Z"
   },
   {
    "duration": 957,
    "start_time": "2021-12-23T20:14:38.298Z"
   },
   {
    "duration": 94,
    "start_time": "2021-12-23T20:14:39.257Z"
   },
   {
    "duration": 37,
    "start_time": "2021-12-23T20:14:39.354Z"
   },
   {
    "duration": 447,
    "start_time": "2021-12-23T20:17:00.076Z"
   },
   {
    "duration": 110,
    "start_time": "2021-12-23T20:23:20.889Z"
   },
   {
    "duration": 358,
    "start_time": "2021-12-23T20:23:29.877Z"
   },
   {
    "duration": 352,
    "start_time": "2021-12-23T20:24:24.726Z"
   },
   {
    "duration": 72,
    "start_time": "2021-12-23T20:24:49.724Z"
   },
   {
    "duration": 938,
    "start_time": "2021-12-23T20:36:09.693Z"
   },
   {
    "duration": 101,
    "start_time": "2021-12-23T20:36:10.633Z"
   },
   {
    "duration": 37,
    "start_time": "2021-12-23T20:36:10.737Z"
   },
   {
    "duration": 91,
    "start_time": "2021-12-23T20:39:43.962Z"
   },
   {
    "duration": 80,
    "start_time": "2021-12-23T20:41:08.565Z"
   },
   {
    "duration": 556,
    "start_time": "2021-12-23T21:01:14.792Z"
   },
   {
    "duration": 497,
    "start_time": "2021-12-23T21:02:14.943Z"
   },
   {
    "duration": 99,
    "start_time": "2021-12-23T21:03:35.085Z"
   },
   {
    "duration": 251,
    "start_time": "2021-12-23T21:03:55.941Z"
   },
   {
    "duration": 216,
    "start_time": "2021-12-23T21:04:26.158Z"
   },
   {
    "duration": 222,
    "start_time": "2021-12-23T21:05:23.213Z"
   },
   {
    "duration": 241,
    "start_time": "2021-12-23T21:06:04.167Z"
   },
   {
    "duration": 221,
    "start_time": "2021-12-23T21:06:29.874Z"
   }
  ],
  "kernelspec": {
   "display_name": "Python 3 (ipykernel)",
   "language": "python",
   "name": "python3"
  },
  "language_info": {
   "codemirror_mode": {
    "name": "ipython",
    "version": 3
   },
   "file_extension": ".py",
   "mimetype": "text/x-python",
   "name": "python",
   "nbconvert_exporter": "python",
   "pygments_lexer": "ipython3",
   "version": "3.9.5"
  },
  "toc": {
   "base_numbering": 1,
   "nav_menu": {},
   "number_sections": true,
   "sideBar": true,
   "skip_h1_title": true,
   "title_cell": "Содержание",
   "title_sidebar": "Contents",
   "toc_cell": true,
   "toc_position": {},
   "toc_section_display": true,
   "toc_window_display": true
  }
 },
 "nbformat": 4,
 "nbformat_minor": 2
}
